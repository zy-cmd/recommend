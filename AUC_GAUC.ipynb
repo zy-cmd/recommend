{
 "cells": [
  {
   "cell_type": "markdown",
   "metadata": {},
   "source": [
    "AUC是ROC曲线下面的面积 \n",
    "\n",
    "第一种实现方式 就是用梯形的方法"
   ]
  },
  {
   "cell_type": "code",
   "execution_count": 4,
   "metadata": {},
   "outputs": [],
   "source": [
    "TP = [50, 40, 30, 20, 10]\n",
    "TN = [100, 110, 120, 130, 140]\n",
    "FP = [10, 20, 30, 40, 50]\n",
    "FN = [5, 10, 15, 20, 25]\n"
   ]
  },
  {
   "cell_type": "code",
   "execution_count": 5,
   "metadata": {},
   "outputs": [
    {
     "data": {
      "text/plain": [
       "([0.9090909090909091, 0.8, 0.6666666666666666, 0.5, 0.2857142857142857],\n",
       " [0.09090909090909091,\n",
       "  0.15384615384615385,\n",
       "  0.2,\n",
       "  0.23529411764705882,\n",
       "  0.2631578947368421])"
      ]
     },
     "execution_count": 5,
     "metadata": {},
     "output_type": "execute_result"
    }
   ],
   "source": [
    "def get_tpr_fpr(tp, tn, fp, fn):\n",
    "    tpr = [0] * len(tp)\n",
    "    fpr = [0] * len(tp)\n",
    "    for i in range(len(tp)):\n",
    "        tpr[i] = tp[i] / (tp[i] + fn[i])\n",
    "        fpr[i] = fp[i] / (fp[i] + tn[i])\n",
    "    return tpr, fpr\n",
    "\n",
    "TPR, FPR = get_tpr_fpr(TP, TN, FP, FN)\n",
    "TPR, FPR"
   ]
  },
  {
   "cell_type": "code",
   "execution_count": 6,
   "metadata": {},
   "outputs": [
    {
     "data": {
      "text/plain": [
       "0.11916345405228039"
      ]
     },
     "execution_count": 6,
     "metadata": {},
     "output_type": "execute_result"
    }
   ],
   "source": [
    "def get_auc(tpr, fpr):\n",
    "    # 先按照fpr排序\n",
    "    sorted_indices = sorted(range(len(fpr)), key=lambda i: fpr[i])\n",
    "    fpr_sorted = [fpr[i] for i in sorted_indices]\n",
    "    tpr_sorted = [tpr[i] for i in sorted_indices]\n",
    "    auc = 0.0\n",
    "    for i in range(1,len(fpr_sorted)):\n",
    "        width = fpr_sorted[i] - fpr_sorted[i-1]\n",
    "        height = (tpr_sorted[i] + tpr_sorted[i-1]) / 2\n",
    "        auc += width * height\n",
    "    return auc\n",
    "\n",
    "auc = get_auc(TPR, FPR)\n",
    "auc"
   ]
  },
  {
   "cell_type": "markdown",
   "metadata": {},
   "source": [
    "给定y_lable和y_target计算AUC 和GAUC\n",
    "ROC 曲线下面的面积 =  正样本得分大于负样本得分的概率\n",
    "ROC 曲线纵轴就是TPR 表示正样本中识别为1的比例\n",
    "        横轴是FPR 表示负样本中识别为1的比例 根据不同的阈值画的线\n",
    "AUC是ROC曲线下面的面积 表示什么意思？\n",
    "AUC其实是正样本大于负样本得分的概率  穷举所有的正样本和负样本"
   ]
  },
  {
   "cell_type": "markdown",
   "metadata": {},
   "source": []
  }
 ],
 "metadata": {
  "kernelspec": {
   "display_name": "base",
   "language": "python",
   "name": "python3"
  },
  "language_info": {
   "codemirror_mode": {
    "name": "ipython",
    "version": 3
   },
   "file_extension": ".py",
   "mimetype": "text/x-python",
   "name": "python",
   "nbconvert_exporter": "python",
   "pygments_lexer": "ipython3",
   "version": "3.9.17"
  }
 },
 "nbformat": 4,
 "nbformat_minor": 2
}
